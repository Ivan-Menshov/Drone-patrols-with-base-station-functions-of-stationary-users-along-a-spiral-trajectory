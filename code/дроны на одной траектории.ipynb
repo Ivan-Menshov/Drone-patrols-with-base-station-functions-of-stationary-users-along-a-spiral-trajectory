{
 "cells": [
  {
   "cell_type": "code",
   "execution_count": 1,
   "metadata": {},
   "outputs": [],
   "source": [
    "import numpy as np\n",
    "import matplotlib.pyplot as plt "
   ]
  },
  {
   "cell_type": "code",
   "execution_count": 2,
   "metadata": {},
   "outputs": [],
   "source": [
    "x_user=np.random.uniform(-2,12,100)\n",
    "y_user=np.random.uniform(-2,12,100)"
   ]
  },
  {
   "cell_type": "code",
   "execution_count": 3,
   "metadata": {},
   "outputs": [],
   "source": [
    "#отрисвка окрудности\n",
    "#нужно указать центр окружности = (x,y) и радиус окружности = R\n",
    "def plot_circle(x,y,r):\n",
    "    angles = np.linspace(0,2*np.pi,500)\n",
    "    x_cir=x+r*np.cos(angles)\n",
    "    y_cir=y+r*np.sin(angles)\n",
    "    plt.plot(x_cir,y_cir)"
   ]
  },
  {
   "cell_type": "code",
   "execution_count": 4,
   "metadata": {},
   "outputs": [],
   "source": [
    "R = 3 # радиус покрытия дрона"
   ]
  },
  {
   "cell_type": "code",
   "execution_count": 5,
   "metadata": {},
   "outputs": [],
   "source": [
    "def traektory(x,y,r):\n",
    "    angles = np.linspace(0,2*np.pi,100)\n",
    "    X=[]\n",
    "    Y=[]\n",
    "    for i in range(len(angles)):\n",
    "        x_cir=x+r*np.cos(angles[i])\n",
    "        y_cir=y+r*np.sin(angles[i])\n",
    "        X.append(x_cir)\n",
    "        Y.append(y_cir)\n",
    "    return X,Y"
   ]
  },
  {
   "cell_type": "code",
   "execution_count": 6,
   "metadata": {},
   "outputs": [],
   "source": [
    "def traektory1(x,y,r):\n",
    "    angles = np.linspace(np.pi,3*np.pi,100)\n",
    "    X=[]\n",
    "    Y=[]\n",
    "    for i in range(len(angles)):\n",
    "        x_cir=x+r*np.cos(angles[i])\n",
    "        y_cir=y+r*np.sin(angles[i])\n",
    "        X.append(x_cir)\n",
    "        Y.append(y_cir)\n",
    "    return X,Y"
   ]
  },
  {
   "cell_type": "code",
   "execution_count": 7,
   "metadata": {},
   "outputs": [],
   "source": [
    "def distance(x1,y1,x2,y2):\n",
    "    return np.sqrt((x2-x1)**2+(y2-y1)**2)"
   ]
  },
  {
   "cell_type": "code",
   "execution_count": 8,
   "metadata": {},
   "outputs": [],
   "source": [
    "conteyner=[]\n",
    "conteyner.append(traektory(5,5,4))\n",
    "conteyner.append(traektory1(5,5,4))"
   ]
  },
  {
   "cell_type": "code",
   "execution_count": 9,
   "metadata": {},
   "outputs": [
    {
     "data": {
      "text/plain": [
       "9.0"
      ]
     },
     "execution_count": 9,
     "metadata": {},
     "output_type": "execute_result"
    }
   ],
   "source": [
    "conteyner[0][0][0]"
   ]
  },
  {
   "cell_type": "code",
   "execution_count": 10,
   "metadata": {},
   "outputs": [],
   "source": [
    "X,Y=traektory(5,5,4)"
   ]
  },
  {
   "cell_type": "code",
   "execution_count": 11,
   "metadata": {},
   "outputs": [],
   "source": [
    "X1,Y1=traektory1(5,5,4)"
   ]
  },
  {
   "cell_type": "code",
   "execution_count": 12,
   "metadata": {},
   "outputs": [
    {
     "name": "stdout",
     "output_type": "stream",
     "text": [
      "0\n",
      "1\n",
      "2\n",
      "3\n",
      "4\n",
      "5\n",
      "6\n",
      "7\n",
      "8\n",
      "9\n",
      "10\n",
      "11\n",
      "12\n",
      "13\n",
      "14\n",
      "15\n",
      "16\n",
      "17\n",
      "18\n",
      "19\n",
      "20\n",
      "21\n",
      "22\n",
      "23\n",
      "24\n",
      "25\n",
      "26\n",
      "27\n",
      "28\n",
      "29\n",
      "30\n",
      "31\n",
      "32\n",
      "33\n",
      "34\n",
      "35\n",
      "36\n",
      "37\n",
      "38\n",
      "39\n",
      "40\n",
      "41\n",
      "42\n",
      "43\n",
      "44\n",
      "45\n",
      "46\n",
      "47\n",
      "48\n",
      "49\n",
      "50\n",
      "51\n",
      "52\n",
      "53\n",
      "54\n",
      "55\n",
      "56\n",
      "57\n",
      "58\n",
      "59\n",
      "60\n",
      "61\n",
      "62\n",
      "63\n",
      "64\n",
      "65\n",
      "66\n",
      "67\n",
      "68\n",
      "69\n",
      "70\n",
      "71\n",
      "72\n",
      "73\n",
      "74\n",
      "75\n",
      "76\n",
      "77\n",
      "78\n",
      "79\n",
      "80\n",
      "81\n",
      "82\n",
      "83\n",
      "84\n",
      "85\n",
      "86\n",
      "87\n",
      "88\n",
      "89\n",
      "90\n",
      "91\n",
      "92\n",
      "93\n",
      "94\n",
      "95\n",
      "96\n",
      "97\n",
      "98\n",
      "99\n"
     ]
    }
   ],
   "source": [
    "screen=[]\n",
    "covered_users=[]\n",
    "for j in range (len(X)):\n",
    "    a=plt.figure(dpi=100,figsize=(8,8))\n",
    "    #рисуем траеторию полета дрона\n",
    "    plot_circle(5,5,4)\n",
    "    #рисуем точку доступа - дрон 1\n",
    "    plt.plot(X[j],Y[j],'o',color='red')\n",
    "    #рисуем точку доступа - дрон 2\n",
    "    plt.plot(X1[j],Y1[j],'o',color='red')\n",
    "    #рисуем область покрытия дрона\n",
    "    plot_circle(X[j],Y[j],R)\n",
    "    plot_circle(X1[j],Y1[j],R)\n",
    "    covered = 0\n",
    "    for i in range (len(x_user)):\n",
    "        if (distance(x_user[i],y_user[i],X[j],Y[j])<=R) and (distance(x_user[i],y_user[i],X1[j],Y1[j])>R) or (distance(x_user[i],y_user[i],X[j],Y[j])>R) and (distance(x_user[i],y_user[i],X1[j],Y1[j])<=R):\n",
    "            plt.plot(x_user[i],y_user[i],'.',color='green') \n",
    "            covered +=1\n",
    "        else:\n",
    "            plt.plot(x_user[i],y_user[i],'.',color='red')\n",
    "    covered_users.append(covered)\n",
    "    plt.xlim(-2,12)\n",
    "    plt.ylim(-2,12)\n",
    "    plt.title('Time: '+str(j) )\n",
    "    screen.append(a)\n",
    "    plt.close()\n",
    "    print(j)"
   ]
  },
  {
   "cell_type": "code",
   "execution_count": 13,
   "metadata": {},
   "outputs": [
    {
     "data": {
      "text/plain": [
       "[<matplotlib.lines.Line2D at 0x1bf3c8e6310>]"
      ]
     },
     "execution_count": 13,
     "metadata": {},
     "output_type": "execute_result"
    },
    {
     "data": {
      "image/png": "[encoded data removed]",
      "text/plain": [
       "<Figure size 432x288 with 1 Axes>"
      ]
     },
     "metadata": {
      "needs_background": "light"
     },
     "output_type": "display_data"
    }
   ],
   "source": [
    "plt.plot(range(100),covered_users)"
   ]
  },
  {
   "cell_type": "code",
   "execution_count": 14,
   "metadata": {},
   "outputs": [
    {
     "name": "stdout",
     "output_type": "stream",
     "text": [
      "0\n",
      "1\n",
      "2\n",
      "3\n",
      "4\n",
      "5\n",
      "6\n",
      "7\n",
      "8\n",
      "9\n",
      "10\n",
      "11\n",
      "12\n",
      "13\n",
      "14\n",
      "15\n",
      "16\n",
      "17\n",
      "18\n",
      "19\n",
      "20\n",
      "21\n",
      "22\n",
      "23\n",
      "24\n",
      "25\n",
      "26\n",
      "27\n",
      "28\n",
      "29\n",
      "30\n",
      "31\n",
      "32\n",
      "33\n",
      "34\n",
      "35\n",
      "36\n",
      "37\n",
      "38\n",
      "39\n",
      "40\n",
      "41\n",
      "42\n",
      "43\n",
      "44\n",
      "45\n",
      "46\n",
      "47\n",
      "48\n",
      "49\n",
      "50\n",
      "51\n",
      "52\n",
      "53\n",
      "54\n",
      "55\n",
      "56\n",
      "57\n",
      "58\n",
      "59\n",
      "60\n",
      "61\n",
      "62\n",
      "63\n",
      "64\n",
      "65\n",
      "66\n",
      "67\n",
      "68\n",
      "69\n",
      "70\n",
      "71\n",
      "72\n",
      "73\n",
      "74\n",
      "75\n",
      "76\n",
      "77\n",
      "78\n",
      "79\n",
      "80\n",
      "81\n",
      "82\n",
      "83\n",
      "84\n",
      "85\n",
      "86\n",
      "87\n",
      "88\n",
      "89\n",
      "90\n",
      "91\n",
      "92\n",
      "93\n",
      "94\n",
      "95\n",
      "96\n",
      "97\n",
      "98\n",
      "99\n"
     ]
    }
   ],
   "source": [
    "screen_name=[]\n",
    "for i in range (len(screen)):\n",
    "    screen[i].savefig(str(i)+'saved_figure.png') \n",
    "    screen_name.append(str(i)+'saved_figure.png')\n",
    "    print(i)"
   ]
  },
  {
   "cell_type": "code",
   "execution_count": 15,
   "metadata": {},
   "outputs": [],
   "source": [
    "import os\n",
    "import imageio"
   ]
  },
  {
   "cell_type": "code",
   "execution_count": 16,
   "metadata": {},
   "outputs": [
    {
     "name": "stdout",
     "output_type": "stream",
     "text": [
      "0saved_figure.png\n",
      "1saved_figure.png\n",
      "2saved_figure.png\n",
      "3saved_figure.png\n",
      "4saved_figure.png\n",
      "5saved_figure.png\n",
      "6saved_figure.png\n",
      "7saved_figure.png\n",
      "8saved_figure.png\n",
      "9saved_figure.png\n",
      "10saved_figure.png\n",
      "11saved_figure.png\n",
      "12saved_figure.png\n",
      "13saved_figure.png\n",
      "14saved_figure.png\n",
      "15saved_figure.png\n",
      "16saved_figure.png\n",
      "17saved_figure.png\n",
      "18saved_figure.png\n",
      "19saved_figure.png\n",
      "20saved_figure.png\n",
      "21saved_figure.png\n",
      "22saved_figure.png\n",
      "23saved_figure.png\n",
      "24saved_figure.png\n",
      "25saved_figure.png\n",
      "26saved_figure.png\n",
      "27saved_figure.png\n",
      "28saved_figure.png\n",
      "29saved_figure.png\n",
      "30saved_figure.png\n",
      "31saved_figure.png\n",
      "32saved_figure.png\n",
      "33saved_figure.png\n",
      "34saved_figure.png\n",
      "35saved_figure.png\n",
      "36saved_figure.png\n",
      "37saved_figure.png\n",
      "38saved_figure.png\n",
      "39saved_figure.png\n",
      "40saved_figure.png\n",
      "41saved_figure.png\n",
      "42saved_figure.png\n",
      "43saved_figure.png\n",
      "44saved_figure.png\n",
      "45saved_figure.png\n",
      "46saved_figure.png\n",
      "47saved_figure.png\n",
      "48saved_figure.png\n",
      "49saved_figure.png\n",
      "50saved_figure.png\n",
      "51saved_figure.png\n",
      "52saved_figure.png\n",
      "53saved_figure.png\n",
      "54saved_figure.png\n",
      "55saved_figure.png\n",
      "56saved_figure.png\n",
      "57saved_figure.png\n",
      "58saved_figure.png\n",
      "59saved_figure.png\n",
      "60saved_figure.png\n",
      "61saved_figure.png\n",
      "62saved_figure.png\n",
      "63saved_figure.png\n",
      "64saved_figure.png\n",
      "65saved_figure.png\n",
      "66saved_figure.png\n",
      "67saved_figure.png\n",
      "68saved_figure.png\n",
      "69saved_figure.png\n",
      "70saved_figure.png\n",
      "71saved_figure.png\n",
      "72saved_figure.png\n",
      "73saved_figure.png\n",
      "74saved_figure.png\n",
      "75saved_figure.png\n",
      "76saved_figure.png\n",
      "77saved_figure.png\n",
      "78saved_figure.png\n",
      "79saved_figure.png\n",
      "80saved_figure.png\n",
      "81saved_figure.png\n",
      "82saved_figure.png\n",
      "83saved_figure.png\n",
      "84saved_figure.png\n",
      "85saved_figure.png\n",
      "86saved_figure.png\n",
      "87saved_figure.png\n",
      "88saved_figure.png\n",
      "89saved_figure.png\n",
      "90saved_figure.png\n",
      "91saved_figure.png\n",
      "92saved_figure.png\n",
      "93saved_figure.png\n",
      "94saved_figure.png\n",
      "95saved_figure.png\n",
      "96saved_figure.png\n",
      "97saved_figure.png\n",
      "98saved_figure.png\n",
      "99saved_figure.png\n"
     ]
    }
   ],
   "source": [
    "with imageio.get_writer('mygif.gif', mode='I') as writer:\n",
    "    for filename in screen_name:\n",
    "        image = imageio.imread(filename)\n",
    "        writer.append_data(image)\n",
    "        print(filename)"
   ]
  },
  {
   "cell_type": "code",
   "execution_count": null,
   "metadata": {},
   "outputs": [],
   "source": []
  }
 ],
 "metadata": {
  "kernelspec": {
   "display_name": "Python 3 (ipykernel)",
   "language": "python",
   "name": "python3"
  },
  "language_info": {
   "codemirror_mode": {
    "name": "ipython",
    "version": 3
   },
   "file_extension": ".py",
   "mimetype": "text/x-python",
   "name": "python",
   "nbconvert_exporter": "python",
   "pygments_lexer": "ipython3",
   "version": "3.9.7"
  }
 },
 "nbformat": 4,
 "nbformat_minor": 4
}
